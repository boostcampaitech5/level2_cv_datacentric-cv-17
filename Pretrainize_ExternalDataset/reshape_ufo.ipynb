{
 "cells": [
  {
   "cell_type": "code",
   "execution_count": null,
   "metadata": {},
   "outputs": [],
   "source": [
    "import os\n",
    "import json"
   ]
  },
  {
   "cell_type": "code",
   "execution_count": null,
   "metadata": {},
   "outputs": [],
   "source": [
    "load_path = \"./\"\n",
    "save_dir = \"./new_new.json\""
   ]
  },
  {
   "cell_type": "code",
   "execution_count": null,
   "metadata": {},
   "outputs": [],
   "source": [
    "total_images = {}\n",
    "\n",
    "file_list = os.listdir(load_path)\n",
    "for file in file_list:\n",
    "    file_path = load_path + file\n",
    "    with open(file_path) as f:\n",
    "        data = json.load(f)\n",
    "        images = data['images'][0]\n",
    "        annotations = data['annotations']\n",
    "\n",
    "    words = {}\n",
    "    for an, anno in annotations.iteams():\n",
    "        an = \"000\"+str(int(an))\n",
    "        an = an[-4:]\n",
    "\n",
    "        bbox = anno[\"annotation.bbox\"]\n",
    "        x,y,w,h =  bbox[0],bbox[1],bbox[2],bbox[3]\n",
    "        points = [[x,y], [x+w,y], [x+w,y+h], [x,y+h]]\n",
    "\n",
    "        word = {\n",
    "            \"transcription\": anno[\"annotation.text\"],\n",
    "            \"points\": points,\n",
    "            \"orientation\": \"Horizontal\",\n",
    "            \"language\": None,\n",
    "            \"tags\": [],\n",
    "            \"confidence\": None,\n",
    "            \"illegibility\": False\n",
    "            }\n",
    "        \n",
    "        words[an] = word\n",
    "\n",
    "\n",
    "    file_name = images[\"image.file.name\"]\n",
    "    part_images = {\"paragraphs\":{},\n",
    "                        \"words\" :words,\n",
    "                        \"chars\": {},\n",
    "                        \"img_w\":images[\"image.width\"],\n",
    "                        \"img_h\":images[\"image.height\"],\n",
    "                        \"tags\" : [],\n",
    "                        \"relations\":{},\n",
    "                        \"annotation_log\":{},\n",
    "                        \"license_tag\" : {}\n",
    "                        }\n",
    "        \n",
    "    total_images[file_name] = part_images"
   ]
  },
  {
   "cell_type": "code",
   "execution_count": null,
   "metadata": {},
   "outputs": [],
   "source": [
    "with open(save_dir,'w') as train_writer:\n",
    "        json.dump({\n",
    "            'images' : total_images\n",
    "        }, train_writer, indent=2)\n",
    "\n",
    "print('\\nCreating %s... Done !' %save_dir)"
   ]
  }
 ],
 "metadata": {
  "language_info": {
   "name": "python"
  },
  "orig_nbformat": 4
 },
 "nbformat": 4,
 "nbformat_minor": 2
}
