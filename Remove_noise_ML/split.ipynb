{
 "cells": [
  {
   "cell_type": "code",
   "execution_count": null,
   "metadata": {},
   "outputs": [],
   "source": [
    "import os\n",
    "import json"
   ]
  },
  {
   "cell_type": "code",
   "execution_count": null,
   "metadata": {},
   "outputs": [],
   "source": [
    "#기존의 train set json파일 이름과 위치\n",
    "load_train = \"./train.json\"\n",
    "#추가된 annotataion set json파일 이름과 위치\n",
    "load_total = \"./annotataion_300.json\""
   ]
  },
  {
   "cell_type": "code",
   "execution_count": null,
   "metadata": {},
   "outputs": [],
   "source": [
    "split_list=[{},{},{},{}]\n",
    "\n",
    "with open(load_train, 'r', encoding='utf-8') as f:\n",
    "    data = json.load(f)\n",
    "    train_images = data[\"images\"]\n",
    "\n",
    "with open(load_total, 'r', encoding='utf-8') as f:\n",
    "    data = json.load(f)\n",
    "    total_images = data[\"images\"]\n",
    "\n",
    "\n",
    "\n",
    "for key,value in train_images.items():\n",
    "    for i in range(4):\n",
    "        split_list[i][key] = value\n",
    "    \n",
    "i =0\n",
    "for key,value in total_images.items():\n",
    "    if key in train_images:\n",
    "        continue\n",
    "    split_list[i][key] = value\n",
    "    i = (i+1)%4\n",
    "    \n",
    "for i in range(4):\n",
    "    with open(f\"./split_{i}.json\",'w',  encoding='utf-8') as train_writer:\n",
    "            json.dump({\n",
    "                'images' : split_list[i]\n",
    "            }, train_writer, indent=2, ensure_ascii=False)\n",
    "\n",
    "print('\\nCreating %s... Done !' )"
   ]
  }
 ],
 "metadata": {
  "language_info": {
   "name": "python"
  },
  "orig_nbformat": 4
 },
 "nbformat": 4,
 "nbformat_minor": 2
}
